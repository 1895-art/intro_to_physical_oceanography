{
 "cells": [
  {
   "cell_type": "markdown",
   "metadata": {},
   "source": [
    "# P.O. Problem Set 2: Heat and Salt Fluxes\n",
    "\n",
    "_(NOTE: These problems can mostly be done \"by hand,\" but you can use a computer as a calculator if you wish.)_\n"
   ]
  },
  {
   "cell_type": "markdown",
   "metadata": {},
   "source": [
    "## 1) Sensible heat flux\n",
    "\n",
    "Let's assume that initially the ocean and atmosphere are in a balanced state, with no turbulent heat exchange and $T = T_{10} = 20^\\circ$C. Suddenly a cold front comes through and the air temperature drops suddenly to 18$^\\circ$C. Assume there is no ocean current and that the atmospheric winds are blowing at 10 m/s. You can also assume that $C_H = 10^{-3}$.\n",
    "\n",
    "1. Calculate the sensible heat flux immediately after this drop in air temperature.\n",
    "1. Assume the mixed layer is 50 m deep. Calculate the instantaneous rate of mixed layer cooling immediately after the drop in air temperature. Express your answer in degrees per day.\n",
    "1. This cooling rate cannot be maintained. As the mixed layer cools and the ocean temperature approaches the air temperature, the sensible heat flux will become weaker. Derive an equation describing the time evolution of the air-sea temperature difference $T' = T - T_{10}$, assuming $T_{10}$ remains fixed. ($T'$ is positive when the water is warmer than the air.) You should find an equation of the form\n",
    "$$ \\frac{dT'}{dt} = - \\lambda T' $$\n",
    "The constant $\\lambda$ is an inverse timescale. Express $\\lambda$ first in terms of the other parameters and then find its value. Give your answer in the units days$^{-1}$. In your own words, what does $\\lambda$ represent? How does it depend on the mixed layer depth? The wind speed?\n",
    "1. This equation is a simple linear, first-order ordinary differential equation. Write the solution for $T'(t)$. How long does it take the initial air-sea difference of 2$^\\circ$C to be reduced by half?"
   ]
  },
  {
   "cell_type": "markdown",
   "metadata": {},
   "source": [
    "## 2) Evaporation and Latent Heat Flux\n",
    "\n",
    "We will now calculate the evaporation and latent heat flux due to the same event. Cold air can hold much less water vapor than warm air. The Clausius-Clapeyron equation describes the maximum amount of water vapor that air can hold. The humidity of air is often expressed as _relative humidity_, i.e. $q$ as a percentage of $q_{sat}(T)$.\n",
    "\n",
    "1. What is $q_{sat}$, the specific humidity of the right at the sea surface? (The water temperature is 20$^\\circ$C, and the air right at the surface is always 100% saturated.)\n",
    "1. Assume that the air in the cold front has 50% relative humidity at 10 m above the sea surface. What is $q_{10}$? (Recall that $T_{10} = 18^\\circ$C.)\n",
    "1. Calculate the evaporation rate immediately after the drop in air temperature. What are the units of $E$? Rainfall is often measured in units of mm per day. Can you convert your answer to these units?\n",
    "1. Calculate the instantaneous rate of change of the mixed layer salinity due to evaporation immediately after the drop in air temperature using the virtual salt flux approximation. Assume that the average salinity of the mixed layer $S_{A0} = 35$ g/kg, and express your answer in the units (g/kg)/day.\n",
    "1. Calculate the latent heat flux corresponding with this evaporation rate.\n",
    "1. Sensible heat fluxes can be both positive and negative over the ocean, depending on whether the air temperature is warmer or cooler than the water. As a result, large cancellations occur, and sensible heat fluxes do not contribute very much to the global heat budget. In contrast, latent heat loss is only negative, and strongly cools the ocean as a whole. Why is latent heat flux always negative?"
   ]
  },
  {
   "cell_type": "markdown",
   "metadata": {},
   "source": [
    "## 3) Mediterranean Sea Volume and Freshwater Flux\n",
    "\n",
    "In this problem, we return to our favorite basin, the Mediterranean Sea. The flow in and out of the Mediterranean at the Strait of Gibraltar can roughly be described as a two-layer flow. The upper layer flows in with relatively low salinity, and the lower layer flows out with higher salinity.\n",
    "\n",
    "![med sea](https://vectr.com/rabernat/aDXHLWyY.svg)\n",
    "\n",
    "You may use the Boussinesq approximation for all of these calculations.\n",
    "\n",
    "1. Calculate the net volume flux by advection into the basin at Gibraltar.\n",
    "1. Calculate the average evaporation minus precipitation rate necessary to maintain a steady volume budget. Give your answer in cm/year.\n",
    "1. Calculate the net freshwater flux by advection at Gibraltar. Is it consistent with the evaporation rate?"
   ]
  },
  {
   "cell_type": "markdown",
   "metadata": {},
   "source": [
    "## 4) Southern Ocean Heat Transport\n",
    "\n",
    "A very rough model of the Southern Ocean overturning is wind-driven Ekman pumping pushing warm water out near the surface and geostrophc transport below the depth of topography provding the return flow. \n",
    "\n",
    "![so](https://vectr.com/rabernat/apTPY1rnD.svg)\n",
    "\n",
    "1. Calculate the net Ekman-driven volume transport out the Southern Ocean near 55S assuming that the zonal wind strength is 0.1 N m$^{-2}$. Give you answer in Sv.\n",
    "1. Calculate the required geostrophic inflow to keep the volume budget balance, assuming now net E-P-R below 55S.\n",
    "1. Calculate the heat transport by this flow across 55S. Give your answer in PW (10$^{15}$ W). Explain your sign convention.\n",
    "1. Calculate the required average air-sea heat flux into the ocean south of 55S needed to balance the heat budget. Explain your sign convention.\n",
    "1. Compare to the observed air-sea flux [from our notes](http://nbviewer.jupyter.org/github/rabernat/intro_to_physical_oceanography/blob/master/lectures/03_air_sea_exchange.ipynb). Are they compatible? What terms might be missing from our heat budget?"
   ]
  },
  {
   "cell_type": "code",
   "execution_count": null,
   "metadata": {},
   "outputs": [],
   "source": []
  }
 ],
 "metadata": {
  "kernelspec": {
   "display_name": "Python 3",
   "language": "python",
   "name": "python3"
  },
  "language_info": {
   "codemirror_mode": {
    "name": "ipython",
    "version": 3
   },
   "file_extension": ".py",
   "mimetype": "text/x-python",
   "name": "python",
   "nbconvert_exporter": "python",
   "pygments_lexer": "ipython3",
   "version": "3.6.2"
  }
 },
 "nbformat": 4,
 "nbformat_minor": 2
}
