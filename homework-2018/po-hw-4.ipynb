{
 "cells": [
  {
   "cell_type": "markdown",
   "metadata": {},
   "source": [
    "$$ \\newcommand{\\pd}[2]{ \\frac{\\partial #1}{\\partial #2} }\n",
    "\\newcommand{\\od}[2]{\\frac{d #1}{d #2}}\n",
    "\\newcommand{\\td}[2]{\\frac{D #1}{D #2}}\n",
    "\\newcommand{\\ab}[1]{\\langle #1 \\rangle}\n",
    "\\newcommand{\\bss}[1]{\\textsf{\\textbf{#1}}}\n",
    "\\newcommand{\\ol}{\\overline}\n",
    "\\newcommand{\\olx}[1]{\\overline{#1}^x}\n",
    "$$\n",
    "\n",
    "\n",
    "# Homework 4: Equation Derivations\n",
    "\n",
    "In this homework, we will simply re-derive equations that we have already derived in class. The point of doing it yourself is to make sure you understand each step of the derivation.\n",
    "\n",
    "The starting point for all derivations is the Boussinesq horizontal equations of motion at low Rossby number: \n",
    "\n",
    "$$ \\begin{align} - f v &= -\\pd{\\phi}{x} + \\nu \\nabla^2 u \\\\\n",
    " f u &= -\\pd{\\phi}{y} + \\nu \\nabla^2 v \n",
    "\\end{align} $$\n",
    "\n",
    "Plus the hydrostatic balance\n",
    "\n",
    "$$ \\pd{\\phi}{z} = b $$\n",
    "\n",
    "and the Boussinesq continuity equation:\n",
    "\n",
    "$$ \\pd{u}{x} + \\pd{v}{y} + \\pd{w}{z} = 0 \\ . $$\n",
    "\n",
    "Make sure your notation is precise enough to destiguish between\n",
    "\n",
    "- Ordinary vs. partial derivatives\n",
    "- Vectors vs. scalars\n",
    "- Lower case and capital letters\n",
    "\n",
    "For every problem, write _very neatly_ and _explain each step_. Each problem is worth 25%."
   ]
  },
  {
   "cell_type": "markdown",
   "metadata": {},
   "source": [
    "### 1) Derive the Thermal Wind Balance\n",
    "\n",
    "$$ \\begin{align} - f \\pd{v_g}{z} &=  -\\pd{b}{x}\\\\\n",
    "f \\pd{u_g}{z} &=  -\\pd{b}{y} \\ .\n",
    "\\end{align} $$\n",
    "\n",
    "and explain what it means."
   ]
  },
  {
   "cell_type": "markdown",
   "metadata": {},
   "source": [
    "### 2) Derive the formula for Ekman pumping \n",
    "\n",
    "$$ w_{Ek} =\n",
    "  \\pd{}{x}\\left( \\frac{\\tau_y}{\\rho_0 f} \\right) \n",
    "- \\pd{}{y}\\left( \\frac{\\tau_x}{\\rho_0 f} \\right)  \\ . $$\n",
    "\n"
   ]
  },
  {
   "cell_type": "markdown",
   "metadata": {},
   "source": [
    "### 3) Derive the formula for Sverdrup transport\n",
    "\n",
    "$$\n",
    "\\beta V_{Sv} = \\frac{1}{\\rho_0}  \\mbox{curl} ( \\boldsymbol{\\tau}_{surf}) \\ .\n",
    "$$\n",
    "\n",
    "Explain in words what the equation means.\n"
   ]
  },
  {
   "cell_type": "markdown",
   "metadata": {},
   "source": [
    "### 4) Derive the formula for the Stommel Aarons deep flow\n",
    "\n",
    "\\begin{equation*}\n",
    "V=\\frac{f Q_s}{\\beta A} \n",
    "\\end{equation*}\n",
    "\n",
    "Explain what $Q_s$ and $A$ represent, and explain what the equation means in words."
   ]
  }
 ],
 "metadata": {
  "kernelspec": {
   "display_name": "Python 3",
   "language": "python",
   "name": "python3"
  },
  "language_info": {
   "codemirror_mode": {
    "name": "ipython",
    "version": 3
   },
   "file_extension": ".py",
   "mimetype": "text/x-python",
   "name": "python",
   "nbconvert_exporter": "python",
   "pygments_lexer": "ipython3",
   "version": "3.6.2"
  }
 },
 "nbformat": 4,
 "nbformat_minor": 2
}
