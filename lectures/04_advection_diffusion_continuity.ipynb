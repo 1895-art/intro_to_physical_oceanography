{
 "cells": [
  {
   "cell_type": "markdown",
   "metadata": {},
   "source": [
    "$ \\newcommand{\\pd}[2]{ \\frac{\\partial #1}{\\partial #2} }\n",
    "\\newcommand{\\od}[2]{\\frac{d #1}{d #2}}\n",
    "\\newcommand{\\td}[2]{\\frac{D #1}{D #2}}\n",
    "\\newcommand{\\ab}[1]{\\langle #1 \\rangle}\n",
    "\\newcommand{\\bss}[1]{\\textsf{\\textbf{#1}}}\n",
    "\\newcommand{\\ol}{\\overline}\n",
    "\\newcommand{\\olx}[1]{\\overline{#1}^x}\n",
    "$\n",
    "\n",
    "## Material Derivative #\n",
    "\n",
    "The acceleration in Newton's second law involves the _time rate of change_ of momentum. When we first learn about mechanics, we study the motion of discrete particles (e.g.~pool balls, cannonballs, etc.), for which momentum and its rate of change is easy to define. Fluid mechanics, a branch of _continuum mechanics_, confronts a much more difficult situation. There are no \"particles\" to follow; instead, there is the \"water parcel,\" a hypothetical, infinitesimally small fluid element. We imagine the fluid to be composed of an infinite continuum of such parcels, each following its own unique path. A fluid parcel position at a given time $t$ is given by a three dimensional vector $\\mathbf{x}(x,y,z,t)$. The instantaneous rate of change of the position of such a fluid element defines the fluid velocity:\n",
    "\n",
    "$$\n",
    "\\mathbf{u}  = (u, v, w)\\equiv \\od{\\mathbf{x}}{t}\n",
    "$$\n",
    "\n",
    "One way to do fluid mechanics is to keep track of all such fluid elements as they move around; this is called the {\\em Lagrangian} approach. In Lagrangian fluid mechanics, the rate of change of some fluid property $c$ is just $dc / dt$; it is implicit that we are following the water parcel along its path through space. As you might imagine, Lagrangian fluid mechanics is very difficult because there is actually an infinite number of such paths, and the trajectories quickly become extremely complex. This approach is also incompatible with the way we usually measure the ocean, which involves taking samples at a fixed point in space.\n"
   ]
  },
  {
   "cell_type": "markdown",
   "metadata": {
    "collapsed": true
   },
   "source": [
    "## Basin Scale Budgets\n",
    "\n",
    "As an introduction to this somewhat technical topic, we will first examine the _basin scale_ budgets of _mass, heat, and salt_. This are usually a bit more intuitive to understand.\n",
    "\n",
    "Consider the volume shown below. It shows the side view of an ocean basin (like the North Atlantic) bounded at the bottom by the sea floor, at the top by the ocean surface, and at the southern edge by an open boundary through which water can flow. The central question here is, _what controls the rate of change of total mass, heat content, and salt inside this volume_?\n",
    "\n",
    "![figure needed]()"
   ]
  },
  {
   "cell_type": "markdown",
   "metadata": {},
   "source": [
    "### Mass Conservation\n",
    "\n",
    "Let $M$ be the total mass of the ocean in this basin. The rate of change of mass is given by\n",
    "\n",
    "$$ \\od{M}{t} = F_m^{surf} + F_{m}^{side} $$\n",
    "\n",
    "The two terms on the right represent the mass flux into the volume at the surface and the mass flux into the volume at the side boundary. (Note that the sign coventions we chose for the $F_m$'s was arbitrary: we definied them such that mass will increase if they are positive. This choice dictates the sign in what follows.) At this point the equation is a bit obvious, but let's write what each term is a bit more explicity.\n",
    "\n",
    "The total mass is given by the integral of the density over the volume (denoted by $V$):\n",
    "\n",
    "$$ M = \\iiint_V \\rho dV \\ . $$\n",
    "\n",
    "The mass flux at the surface is given by the integral over the surface of evaporation ($E$, measured in m/s), precipitation ($P$) and runoff ($R$), multiplied by the density of fresh water:\n",
    "\n",
    "$$ F_m^{surf} = -\\iint_{surf} \\rho_{fw} (E - P - R) dA \\ . $$\n",
    "\n",
    "The mass flux at the open boundary is given by the area integral of the mass transport\n",
    "\n",
    "$$ F_m^{side} = - \\iint_{side} \\mathbf{v} \\rho \\cdot \\mathbf{dA} \\ .$$\n",
    "\n",
    "Here $\\mathbf{dA}$ is the vector area element which points _out_ of the volume normal to the boundary.\n",
    "\n",
    "This equation suggests several different possibilities:\n",
    "- In steady state (i.e. time derivative is zero), the net evaporation minus precipitation must balance the mass inflow at the boundary.\n",
    "- If E-P is _not_ in balance with the net E-P-R, then the total ocean mass in the basin has to increase or decrease. "
   ]
  },
  {
   "cell_type": "markdown",
   "metadata": {
    "collapsed": true
   },
   "source": [
    "### Mass Conservation in Boussinesq Approximation\n",
    "\n",
    "The Boussisesq approximation is that density variations $\\delta \\rho$ are very small compared to the background density $\\rho_0$, i.e.\n",
    "\n",
    "$$ \\rho = \\rho _0 + \\delta \\rho \\ ; \\ \\ |\\delta \\rho| \\ll \\rho_0 \\ . $$\n",
    "\n",
    "This approximation simplifies conservations equations considerably. The mass can now be approximated as\n",
    "\n",
    "$$ M \\simeq = \\iiint_V \\rho_0 dV = \\rho_0 \\iiint_V dV \\ . $$\n",
    "\n",
    "Since $\\rho_0$ is a constant, we can divide it out of the mass equation and work with volume instead:\n",
    "\n",
    "$$ V =  \\iiint_V dV \\ . $$\n",
    "\n",
    "The mass equation becomes a volume equation:\n",
    "\n",
    "$$ \\begin{align}\n",
    "\\od{V}{t} =& \\frac{F_m^{surf}}{\\rho_0} + \\frac{F_{m}^{side}}{\\rho_0} \\\\ \n",
    " =& F_v^{surf} + F_v^{side}\n",
    "\\end{align} $$\n",
    "\n",
    "with\n",
    "\n",
    "$$ F_v^{surf} = -\\frac{\\rho_{fw}}{\\rho_0} \\iint_{surf} (E - P - R) dA \\  $$\n",
    "\n",
    "and\n",
    "\n",
    "$$ F_v^{side} = - \\iint_{side} \\mathbf{v} \\cdot \\mathbf{dA} \\ . $$\n",
    "\n"
   ]
  },
  {
   "cell_type": "markdown",
   "metadata": {},
   "source": [
    "### Heat Conservation\n",
    "\n",
    "The total heat content of the basin is given by\n",
    "\n",
    "$$ H = c_p^0 \\iiint_V \\rho  \\Theta dV \\ . $$\n",
    "\n",
    "Some would say that that $\\Theta$ should be measured in Kelvins. However, only _changes_ in heat content matter, so in fact any aribitrary constant $\\Theta_{ref}$ could be added to $\\Theta$. Any conclusions we make about heat conservation should be unchanged under the transformation $\\Theta \\to \\Theta + \\Theta _{ref}$.\n",
    "\n",
    "Analagous to mass, the rate of change of heat content is given by\n",
    "\n",
    "$$ \\od{H}{t} = F_H^{surf} + F_H^{side} \\ . $$\n",
    "\n",
    "The surface flux is the air-sea flux $Q$ we discussed earlier, plus the advection of heat by the evaporating / precipitating water:\n",
    "\n",
    "$$ F_H^{surf} = \\iint_{surf} Q dA + c_p^0 \\iint_{surf} \\rho_{fw} \\Theta (E - P - R) dA $$\n",
    "\n",
    "where $Q$ is defined as positive for downward heat flux.\n",
    "\n",
    "The flux through the side is\n",
    "\n",
    "$$ F_H^{side} = - \\rho_0 c_p^0 \\iint \\mathbf{u} \\Theta \\cdot \\mathbf{da} $$\n",
    "\n",
    "Todo: explain relation between $\\Theta_{ref}$ and volume conservation."
   ]
  },
  {
   "cell_type": "code",
   "execution_count": null,
   "metadata": {
    "collapsed": true
   },
   "outputs": [],
   "source": []
  }
 ],
 "metadata": {
  "celltoolbar": "Slideshow",
  "kernelspec": {
   "display_name": "Python 3",
   "language": "python",
   "name": "python3"
  },
  "language_info": {
   "codemirror_mode": {
    "name": "ipython",
    "version": 3
   },
   "file_extension": ".py",
   "mimetype": "text/x-python",
   "name": "python",
   "nbconvert_exporter": "python",
   "pygments_lexer": "ipython3",
   "version": "3.6.2"
  }
 },
 "nbformat": 4,
 "nbformat_minor": 1
}
