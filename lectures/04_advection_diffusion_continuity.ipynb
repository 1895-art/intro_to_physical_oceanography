{
 "cells": [
  {
   "cell_type": "markdown",
   "metadata": {},
   "source": [
    "$ \\newcommand{\\pd}[2]{ \\frac{\\partial #1}{\\partial #2} }\n",
    "\\newcommand{\\od}[2]{\\frac{d #1}{d #2}}\n",
    "\\newcommand{\\td}[2]{\\frac{D #1}{D #2}}\n",
    "\\newcommand{\\ab}[1]{\\langle #1 \\rangle}\n",
    "\\newcommand{\\bss}[1]{\\textsf{\\textbf{#1}}}\n",
    "\\newcommand{\\ol}{\\overline}\n",
    "\\newcommand{\\olx}[1]{\\overline{#1}^x}\n",
    "$\n",
    "\n",
    "# Material Derivative #\n",
    "\n",
    "The acceleration in Newton's second law involves the _time rate of change_ of momentum. When we first learn about mechanics, we study the motion of discrete particles (e.g.~pool balls, cannonballs, etc.), for which momentum and its rate of change is easy to define. Fluid mechanics, a branch of _continuum mechanics_, confronts a much more difficult situation. There are no \"particles\" to follow; instead, there is the \"water parcel,\" a hypothetical, infinitesimally small fluid element. We imagine the fluid to be composed of an infinite continuum of such parcels, each following its own unique path. A fluid parcel position at a given time $t$ is given by a three dimensional vector $\\mathbf{x}(x,y,z,t)$. The instantaneous rate of change of the position of such a fluid element defines the fluid velocity:\n",
    "\n",
    "$$\n",
    "\\mathbf{u}  = (u, v, w)\\equiv \\od{\\mathbf{x}}{t}\n",
    "$$\n",
    "\n",
    "One way to do fluid mechanics is to keep track of all such fluid elements as they move around; this is called the {\\em Lagrangian} approach. In Lagrangian fluid mechanics, the rate of change of some fluid property $c$ is just $dc / dt$; it is implicit that we are following the water parcel along its path through space. As you might imagine, Lagrangian fluid mechanics is very difficult because there is actually an infinite number of such paths, and the trajectories quickly become extremely complex. This approach is also incompatible with the way we usually measure the ocean, which involves taking samples at a fixed point in space.\n"
   ]
  },
  {
   "cell_type": "code",
   "execution_count": null,
   "metadata": {
    "collapsed": true
   },
   "outputs": [],
   "source": []
  }
 ],
 "metadata": {
  "kernelspec": {
   "display_name": "Python [conda env:phys_ocean]",
   "language": "python",
   "name": "conda-env-phys_ocean-py"
  },
  "language_info": {
   "codemirror_mode": {
    "name": "ipython",
    "version": 3
   },
   "file_extension": ".py",
   "mimetype": "text/x-python",
   "name": "python",
   "nbconvert_exporter": "python",
   "pygments_lexer": "ipython3",
   "version": "3.6.2"
  }
 },
 "nbformat": 4,
 "nbformat_minor": 1
}
