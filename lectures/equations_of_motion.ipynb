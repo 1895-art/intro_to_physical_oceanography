{
 "cells": [
  {
   "cell_type": "markdown",
   "metadata": {},
   "source": [
    "$ \\newcommand{\\pd}[2]{ \\frac{\\partial #1}{\\partial #2} }\n",
    "\\newcommand{\\od}[2]{\\frac{d #1}{d #2}}\n",
    "\\newcommand{\\td}[2]{\\frac{D #1}{D #2}}\n",
    "\\newcommand{\\ab}[1]{\\langle #1 \\rangle}\n",
    "\\newcommand{\\bss}[1]{\\textsf{\\textbf{#1}}}\n",
    "\\newcommand{\\ol}{\\overline}\n",
    "\\newcommand{\\olx}[1]{\\overline{#1}^x}\n",
    "$\n",
    "\n",
    "# Equations of Motion"
   ]
  },
  {
   "cell_type": "markdown",
   "metadata": {},
   "source": [
    "In this class, we will not undertake a formal derivation of the fluid equations of motion. That would take up too much time and require too much math. Interested students can consult Marshall and Plumb (sec. XX) for a more in-depth derivation. Instead, we will try to build an intuitive understanding of the equations of motion based on things we already all understand.\n",
    "\n",
    "## Newton's Second Law for a Water Parcel\n",
    "\n",
    "The starting point for understanding the equations of motion is the notion of a \"water parcel\". The water is hypothetical, infinitesimally small fluid element. We imagine the fluid to be composed of an infinite continuum of such parcels, each following its own unique path.\n",
    "\n",
    "The equation of fluid motion is basically just [Newton's second law](https://en.wikipedia.org/wiki/Newton%27s_laws_of_motion#Newton.27s_second_law) applied to this parcel. Newton's second law states that\n",
    "\n",
    "$$m \\mathbf{a} = \\mathbf{F}$$\n",
    "\n",
    "where $\\mathbf{F}$ represents the sum of all forces acting on the parcel, $m$ is the parcel mass and $\\mathbf{a}$ is the acceleration of the parcel. Both sides of the equations have the units of N (Newtons; 1 N = 1 kg m s$^{-2}$).\n",
    "\n",
    "The expression above is valid for a finite-sized object, like a cannon ball. To move to an infintessimally small water parcel, we replace $m$, the mass, with $\\rho$, the density, i.e.~the mass per unit volume:\n",
    "\n",
    "$$ \\rho \\mathbf{a} = \\mathbf{f} \\ .$$\n",
    "\n",
    "The force vector $\\mathbf{f}$ now represents the force per unit volume and has units N m$^{-3}$. \n",
    "\n",
    "In order to develop this equation into a useful form, we need to work on the following two problems:\n",
    "1. What is the acceleration of a fluid parcel on a rotating, spherical planet?\n",
    "1. What are the different forces that make up $\\mathbf{f}$?\n"
   ]
  },
  {
   "cell_type": "markdown",
   "metadata": {},
   "source": [
    "![https://vectr.com/rabernat/b23Bl8h8uT](https://vectr.com/rabernat/b23Bl8h8uT.svg?width=330&height=220&select=b23Bl8h8uTpage0)\n",
    "\n",
    "_Cartoon of a water parcel moving through space along a path (black line). The colored arrows represent the different forces on and acceleration of the parcel._"
   ]
  },
  {
   "cell_type": "markdown",
   "metadata": {},
   "source": [
    "We will start with the forces, because they are easier. There are three forces we have to consider: the pressure gradient force ($\\mathbf{f}_p$), the gravitational force ($\\mathbf{f}_g$) and the viscous force ($\\mathbf{f}_{visc}$). Together these sum to give the net force:\n",
    "\n",
    "$$ \\mathbf{f} = \\mathbf{f}_p + \\mathbf{f}_g + \\mathbf{f}_{visc} $$\n",
    "\n",
    "### Pressure Gradient Force\n",
    "\n",
    "We all have an intuitive understanding of pressure. [Pressure](https://en.wikipedia.org/wiki/Pressure) is the force the surrounding fluid exerts perpendicular to the water parcel surface. We denote pressure with the variable $p$: it has units of Pa (Pascals; 1 Pa = 1 N m$^{-2}$). Pressure is _isotropic_, i.e. it is the same in all directions.\n",
    "\n",
    "If the pressure field is uniform, there will be no net force exerted on the water parcel, because the force is exactly the same on all sides. Only if there is a _pressure gradient_ does the parcel feel a force; the parcel is pushed away from the higher pressure towards the lower pressure. Mathematically, this becomes\n",
    "\n",
    "$$\\mathbf{f}_p = - \\nabla p \\ .$$"
   ]
  },
  {
   "cell_type": "markdown",
   "metadata": {},
   "source": [
    "### Gravitational Force\n",
    "\n",
    "The gravitational force per unit volume on the fluid parcel is given by\n",
    "\n",
    "$$ \\mathbf{f}_g = - g \\rho \\hat{\\mathbf{k}} $$\n",
    "\n",
    "where $g \\simeq$ 9.8 m s$^{-2}$ is the gravitational acceleration and $\\hat{\\mathbf{k}}$ is the unit vector pointing \"up\", i.e. away from Earth's center of mass. A slightly more general form is to express this force in terms of the gravitational [geopotential field](https://en.wikipedia.org/wiki/Geopotential) $\\Phi_g$ of earth:\n",
    "\n",
    "$$ \\mathbf{f}_g = - \\rho \\nabla \\Phi_g \\ .$$\n",
    "\n",
    "The gravitational vector $g \\hat{\\mathbf{k}}$ is defined as the gradient of $\\Phi_g$.\n",
    "\n",
    "The gravitational force acts to pull all fluid parcels \"down\" towards the Earth's center of mass. However, because of the factor of $\\rho$, it is less strong for less dense water. What matters is the relative difference of $\\mathbf{f}_g$ between different fluid parcels. This leads to the concept of [buoyancy](https://en.wikipedia.org/wiki/Buoyancy) (discussed in more detail below), which can push water parcels both downward _and_ upward.\n"
   ]
  },
  {
   "cell_type": "markdown",
   "metadata": {},
   "source": [
    "## Viscous Force\n",
    "\n",
    "Viscosity represents the molecular friction inherent in the fluid motion.\n",
    "\n",
    "![viscous force](https://vectr.com/rabernat/c4ThJXocdS.svg?width=330&height=220&select=c4ThJXocdSpage0)"
   ]
  },
  {
   "cell_type": "code",
   "execution_count": null,
   "metadata": {
    "collapsed": true
   },
   "outputs": [],
   "source": []
  }
 ],
 "metadata": {
  "kernelspec": {
   "display_name": "Python 3",
   "language": "python",
   "name": "python3"
  },
  "language_info": {
   "codemirror_mode": {
    "name": "ipython",
    "version": 3
   },
   "file_extension": ".py",
   "mimetype": "text/x-python",
   "name": "python",
   "nbconvert_exporter": "python",
   "pygments_lexer": "ipython3",
   "version": "3.6.2"
  }
 },
 "nbformat": 4,
 "nbformat_minor": 2
}
