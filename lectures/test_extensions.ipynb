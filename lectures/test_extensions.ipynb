{
 "cells": [
  {
   "cell_type": "code",
   "execution_count": 1,
   "metadata": {
    "collapsed": false
   },
   "outputs": [
    {
     "name": "stdout",
     "output_type": "stream",
     "text": [
      "/Users/rpa/.jupyter\n",
      "['/Users/rpa/.jupyter', '/Users/rpa/anaconda/etc/jupyter', '/usr/local/etc/jupyter', '/etc/jupyter']\n"
     ]
    }
   ],
   "source": [
    "from __future__ import print_function\n",
    "from jupyter_core.paths import jupyter_config_dir, jupyter_config_path\n",
    "print(jupyter_config_dir())\n",
    "print(jupyter_config_path())"
   ]
  },
  {
   "cell_type": "code",
   "execution_count": 2,
   "metadata": {
    "collapsed": false,
    "scrolled": true
   },
   "outputs": [
    {
     "name": "stdout",
     "output_type": "stream",
     "text": [
      "/Users/rpa/Library/Jupyter\n",
      "['/Users/rpa/Library/Jupyter', '/Users/rpa/anaconda/share/jupyter', '/usr/local/share/jupyter', '/usr/share/jupyter']\n"
     ]
    }
   ],
   "source": [
    "from jupyter_core.paths import jupyter_data_dir, jupyter_path\n",
    "print(jupyter_data_dir())\n",
    "print(jupyter_path())"
   ]
  },
  {
   "cell_type": "code",
   "execution_count": 5,
   "metadata": {
    "collapsed": false,
    "scrolled": false
   },
   "outputs": [
    {
     "data": {
      "text/plain": [
       "True"
      ]
     },
     "execution_count": 5,
     "metadata": {},
     "output_type": "execute_result"
    }
   ],
   "source": [
    "import notebook\n",
    "notebook.nbextensions.check_nbextension('codefolding', user=True)"
   ]
  },
  {
   "cell_type": "code",
   "execution_count": 6,
   "metadata": {
    "collapsed": false
   },
   "outputs": [],
   "source": [
    "E = notebook.nbextensions.EnableNBExtensionApp()\n",
    "E.enable_nbextension('codefolding/main')"
   ]
  },
  {
   "cell_type": "code",
   "execution_count": 1,
   "metadata": {
    "collapsed": true
   },
   "outputs": [],
   "source": [
    "def long_func():\n",
    "    print \"\"\"\n",
    "    This is a \n",
    "    really long\n",
    "    piece of text\n",
    "    inside a function\n",
    "    \"\"\""
   ]
  },
  {
   "cell_type": "code",
   "execution_count": null,
   "metadata": {
    "code_folding": [],
    "collapsed": true
   },
   "outputs": [],
   "source": []
  }
 ],
 "metadata": {
  "kernelspec": {
   "display_name": "Python 2",
   "language": "python",
   "name": "python2"
  },
  "language_info": {
   "codemirror_mode": {
    "name": "ipython",
    "version": 2
   },
   "file_extension": ".py",
   "mimetype": "text/x-python",
   "name": "python",
   "nbconvert_exporter": "python",
   "pygments_lexer": "ipython2",
   "version": "2.7.10"
  }
 },
 "nbformat": 4,
 "nbformat_minor": 0
}
