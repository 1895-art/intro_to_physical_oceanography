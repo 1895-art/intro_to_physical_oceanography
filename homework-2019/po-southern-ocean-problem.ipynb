{
 "cells": [
  {
   "cell_type": "markdown",
   "metadata": {},
   "source": [
    "# P.O. Problem Set 4: Southern Ocean Heat Transport\n"
   ]
  },
  {
   "cell_type": "markdown",
   "metadata": {},
   "source": [
    "A very rough model of the Southern Ocean overturning is wind-driven Ekman pumping pushing warm water out near the surface and geostrophc transport below the depth of topography provding the return flow. \n",
    "\n",
    "![so](https://vectr.com/rabernat/apTPY1rnD.svg)\n",
    "\n",
    "1. Calculate the net Ekman-driven volume transport out the Southern Ocean near 55S assuming that the zonal wind strength is 0.1 N m$^{-2}$. Give you answer in Sv.\n",
    "1. Calculate the required geostrophic inflow to keep the volume budget balance, assuming zero net E-P-R below 55S. (Yes, this is trivial.)\n",
    "1. Calculate the heat transport by this flow across 55S. Give your answer in PW (10$^{15}$ W). Explain your sign convention.\n",
    "1. Calculate the required average air-sea heat flux into the ocean south of 55S needed to balance the heat budget. Explain your sign convention.\n",
    "1. Compare to the observed air-sea flux [from our notes](http://nbviewer.jupyter.org/github/rabernat/intro_to_physical_oceanography/blob/master/lectures/03_air_sea_exchange.ipynb). Are they compatible? \n",
    "1. We now assume meridional eddy diffusion is responsible for the missing heat transport. Let's assume the eddies transfer heat according to the formula\n",
    "$$ \\overline{v'\\Theta'} = - K_{eddy} \\frac{\\partial \\overline \\Theta}{\\partial y}$$\n",
    "where $K_{eddy}$ is the eddy diffusion coeeficient. Estimate the value of $K_{eddy}$ to one significant digit."
   ]
  }
 ],
 "metadata": {
  "kernelspec": {
   "display_name": "Python 3",
   "language": "python",
   "name": "python3"
  },
  "language_info": {
   "codemirror_mode": {
    "name": "ipython",
    "version": 3
   },
   "file_extension": ".py",
   "mimetype": "text/x-python",
   "name": "python",
   "nbconvert_exporter": "python",
   "pygments_lexer": "ipython3",
   "version": "3.6.7"
  }
 },
 "nbformat": 4,
 "nbformat_minor": 4
}
